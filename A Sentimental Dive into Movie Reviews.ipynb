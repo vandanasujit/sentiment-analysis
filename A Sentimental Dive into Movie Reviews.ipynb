{
 "cells": [
  {
   "cell_type": "code",
   "execution_count": 1,
   "id": "320030f2",
   "metadata": {},
   "outputs": [
    {
     "name": "stdout",
     "output_type": "stream",
     "text": [
      "Requirement already satisfied: textblob in c:\\users\\new\\anaconda3_2\\lib\\site-packages (0.18.0.post0)\n",
      "Requirement already satisfied: nltk>=3.8 in c:\\users\\new\\anaconda3_2\\lib\\site-packages (from textblob) (3.8.1)\n",
      "Requirement already satisfied: click in c:\\users\\new\\anaconda3_2\\lib\\site-packages (from nltk>=3.8->textblob) (8.1.7)\n",
      "Requirement already satisfied: joblib in c:\\users\\new\\anaconda3_2\\lib\\site-packages (from nltk>=3.8->textblob) (1.4.2)\n",
      "Requirement already satisfied: regex>=2021.8.3 in c:\\users\\new\\anaconda3_2\\lib\\site-packages (from nltk>=3.8->textblob) (2024.7.24)\n",
      "Requirement already satisfied: tqdm in c:\\users\\new\\anaconda3_2\\lib\\site-packages (from nltk>=3.8->textblob) (4.66.4)\n",
      "Requirement already satisfied: colorama in c:\\users\\new\\anaconda3_2\\lib\\site-packages (from click->nltk>=3.8->textblob) (0.4.6)\n"
     ]
    }
   ],
   "source": [
    "#install textblob into jupyter notebook\n",
    "!pip install textblob"
   ]
  },
  {
   "cell_type": "code",
   "execution_count": 2,
   "id": "b9026156",
   "metadata": {},
   "outputs": [],
   "source": [
    "from movie_reviews import reviews\n",
    "import random\n",
    "from textblob import TextBlob # provides text mining, text analysis and text processing modules\n",
    "from IPython.display import clear_output # Clear the output in Jupyter Notebook"
   ]
  },
  {
   "cell_type": "code",
   "execution_count": 3,
   "id": "653a64ce",
   "metadata": {},
   "outputs": [],
   "source": [
    "def get_sentiment(rev):\n",
    "    \"\"\"Function which return the sentiment of the passed review as positive, negative or Neutral\"\"\"\n",
    "    analysis = TextBlob(rev)\n",
    "    if analysis.sentiment.polarity > 0:\n",
    "        return 'positive'\n",
    "    elif analysis.sentiment.polarity <0:\n",
    "        return 'negative'\n",
    "    else:\n",
    "        return 'neutral'"
   ]
  },
  {
   "cell_type": "code",
   "execution_count": 4,
   "id": "0ca73265",
   "metadata": {},
   "outputs": [],
   "source": [
    "def get_reviews(num_of_review,movie_name):\n",
    "    \"\"\"Processing of the review and returns a list, that consist of multiple dictionary with their respective text & sentiment\"\"\"\n",
    "    # Selection of Random reviews\n",
    "    selected_reviews = [random.choice(reviews[movie_name]) for _ in range(num_of_review)]\n",
    "    print(\"First two reviews of the movie: \\n\")\n",
    "    print(selected_reviews[0],\"\\n\")\n",
    "    print(selected_reviews[1],\"\\n\")\n",
    "    final_processed_review = []\n",
    "    for inner_list in selected_reviews:\n",
    "        # Empty dictionary to store required params of a review\n",
    "        parsed_review = {}\n",
    "        # saving text of the reviews\n",
    "        parsed_review['text'] = inner_list[0]\n",
    "        # saving sentiment of the reviews by passing the review to get_sentiment function\n",
    "        parsed_review['sentiment'] = get_sentiment(inner_list[0])\n",
    "        final_processed_review.append(parsed_review)\n",
    "    return final_processed_review"
   ]
  },
  {
   "cell_type": "code",
   "execution_count": 5,
   "id": "6ee59598",
   "metadata": {},
   "outputs": [],
   "source": [
    "def analyze():\n",
    "    print(list(reviews.keys()))\n",
    "    movie_name = input(\"Select a movie you want to analyze: \")\n",
    "    if movie_name in list(reviews.keys()):\n",
    "        num_of_review = int(input(\"Enter the number of reviews you want to analyze: \"))\n",
    "        clear_output()  # Clear the output in Jupyter Notebook\n",
    "        review = get_reviews(num_of_review,movie_name)\n",
    "        # Picking positive reviews\n",
    "        positive_reviews=[]\n",
    "        for item in review:\n",
    "            if item[\"sentiment\"] == \"positive\":\n",
    "                positive_reviews.append(item)\n",
    "        # Percentage of positive reviews\n",
    "        print(\"Positive reviews percentage: {} %\".format(100*len(positive_reviews)/(num_of_review)))\n",
    "        # Picking negative reviews\n",
    "        negative_reviews = [rev1 for rev1 in review if rev1[\"sentiment\"] == \"negative\"]\n",
    "        # Percentage of negative reviews\n",
    "        print(\"Negative reviews percentage: {} %\".format(100*len(negative_reviews)/(num_of_review)))\n",
    "        # Percentage of neutral reviews\n",
    "        print(\"Neutral reviews percentage: {} %\".format(100*((num_of_review) - len(negative_reviews) - len(positive_reviews))/(num_of_review)))\n",
    "    else:\n",
    "        return \"Movie not found in the list\""
   ]
  },
  {
   "cell_type": "code",
   "execution_count": null,
   "id": "907a922e",
   "metadata": {},
   "outputs": [
    {
     "name": "stdout",
     "output_type": "stream",
     "text": [
      "['Endgame', 'Forest_gump', 'Johnwick', 'Joker', 'Morbius', 'Pulpfiction', 'Spiderman', 'Avengers', 'Darkknight', 'Ragnarok']\n"
     ]
    }
   ],
   "source": [
    "analyze()"
   ]
  },
  {
   "cell_type": "code",
   "execution_count": null,
   "id": "dadd2250",
   "metadata": {},
   "outputs": [],
   "source": [
    "text = \"The movie was too good\"\n",
    "#text=\"it might rain today\"\n",
    "\n",
    "analysis = TextBlob(text)\n",
    "if analysis.sentiment.polarity > 0:\n",
    "    print('positive')\n",
    "elif analysis.sentiment.polarity <0:\n",
    "    print ('negative')\n",
    "else:\n",
    "    print ('neutral')"
   ]
  },
  {
   "cell_type": "markdown",
   "id": "153def3c",
   "metadata": {},
   "source": [
    "-1 to +1"
   ]
  }
 ],
 "metadata": {
  "kernelspec": {
   "display_name": "Python 3 (ipykernel)",
   "language": "python",
   "name": "python3"
  },
  "language_info": {
   "codemirror_mode": {
    "name": "ipython",
    "version": 3
   },
   "file_extension": ".py",
   "mimetype": "text/x-python",
   "name": "python",
   "nbconvert_exporter": "python",
   "pygments_lexer": "ipython3",
   "version": "3.11.9"
  }
 },
 "nbformat": 4,
 "nbformat_minor": 5
}
